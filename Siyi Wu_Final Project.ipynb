{
 "cells": [
  {
   "cell_type": "markdown",
   "metadata": {},
   "source": [
    "# Who Am I? Gogol's Growth Journey in Jhumpa Lahiri's _The Namesake_\n",
    "\n",
    "## Siyi Wu"
   ]
  },
  {
   "cell_type": "markdown",
   "metadata": {},
   "source": [
    "The Namesake is the first novel by Jhumpa Lahiri, and also my favorite novel about identity issue. It is about the growth of a American born Indian boy called Gogol/Nikhil. Moving between events in Calcutta, Boston, and New York City, the novel examines the nuances involved with Gogol/Nikhil being caught between two conflicting cultures with highly distinct religious, social, and ideological differences. In my project, I want to track the growth journey of Gogol and show how he rediscovers himself in his identity crisis. I will analyze from two angles: 1) The change on name that Gogol uses to call himself; 2) Changes of Gogol's relationships to other characters in the book over time "
   ]
  },
  {
   "cell_type": "markdown",
   "metadata": {},
   "source": [
    "### 0. Prep Work & Basic Info about _The Namesake_ "
   ]
  },
  {
   "cell_type": "code",
   "execution_count": 1,
   "metadata": {},
   "outputs": [],
   "source": [
    "#Import all libraries\n",
    "import nltk\n",
    "from nltk.stem.lancaster import LancasterStemmer\n",
    "import pandas as pd\n",
    "import networkx\n",
    "from itertools import combinations \n",
    "import spacy\n",
    "from collections import Counter\n",
    "import matplotlib.pyplot as plt\n",
    "from nltk.tokenize import RegexpTokenizer\n",
    "import pandas as pd\n",
    "import numpy as np\n",
    "from IPython.display import display_html"
   ]
  },
  {
   "cell_type": "markdown",
   "metadata": {},
   "source": [
    "- Gogol: the Protagonist\n",
    "- Ashima: Gogol's mother\n",
    "- Ashoke: Gogol's father\n",
    "- Sonia: Gogol's younger sister\n",
    "- Moushumi: Gogol's third girlfriend/wife\n",
    "- Maxine: Gogol's second girlfriend\n",
    "- Ruth: Gogol's first girlfriend\n",
    "- Dimitri: the man with whom Moushumi has an affair\n",
    "- The Ratliff (Gerald, Lydia): Maxine's parents\n",
    "- Donald and Astrid: Moushumi's friends\n",
    "- Graham: Moushumi’s first fiancé\n",
    "- Ghosh: A friendly, portly Bengali businessman with whom Ashoke strikes up a conversation on the train that eventually crashes\n",
    "- The Nandis and Dr. Gupta: Indian American friends to Gogol's family\n",
    "- Ben: Sonia’s fiancé\n",
    "\n",
    "I also build a disctionary to show all the characters below:"
   ]
  },
  {
   "cell_type": "code",
   "execution_count": 2,
   "metadata": {},
   "outputs": [],
   "source": [
    "#All characters in the book\n",
    "#There are 12 chapters in total\n",
    "characters = {\"Gogol\": [\"Gogol Ganguli\", \"Gogol\", \"Nikhil\"], \n",
    "     \"Ashima\": [\"Ashima\", \"Ashima Ganguli\", \"Ma\"], \n",
    "     \"Ashoke\": [\"Ashoke\", \"Ashoke Ganguli\", \"Baba\", \"Professor Ganguli\"], \n",
    "     \"Sonia\": [\"Sonia\", \"Sonali\"], \n",
    "     \"Moushumi\": [\"Moushumi\", \"Moushumi Mazoomdar\"], \n",
    "     \"Maxine\": [\"Maxine\"], \n",
    "     \"Ruth\": [\"Ruth\"], \n",
    "     \"Dimitri\": [\"Dimitri\", \"Dimitri Desjardins\"],\n",
    "     \"The Ratliff\": [\"Gerald\", \"Lydia\"], \n",
    "     \"Donald and Astrid\": [\"Donald\", \"Astrid\"], \n",
    "     \"Graham\": [\"Graham\"], \n",
    "     \"Ghosh\": [\"Ghosh\"], \n",
    "     \"The Nandis and Dr. Gupta\": [\"Nandis\", \"Dr. Gupta\"], \n",
    "     \"Alan and Judy\": [\"Alan\", \"Judy\"], \n",
    "     \"Ben\": [\"Ben\"] \n",
    "    }\n",
    "def normalizeName(name): \n",
    "    for char in characters: \n",
    "        if name in characters[char]: \n",
    "            return char"
   ]
  },
  {
   "cell_type": "markdown",
   "metadata": {},
   "source": [
    "### 1. Naming: from Gogol to Nikhil"
   ]
  },
  {
   "cell_type": "markdown",
   "metadata": {},
   "source": [
    "As the title _The Namesake_ suggests, at its core _The Namesake_ tackles the question of forming one’s own identity, and explores the power that a name can carry. The main chracter Gogol/Nikhil has two names: Gogol is his legal name given by his father; Nikhil is his formal Bengali name “Nikhil,” and he decides to use this name when he goes to college. Below I plot a dispersion plot to track the usage of these two names throughout the whole book:"
   ]
  },
  {
   "cell_type": "code",
   "execution_count": 3,
   "metadata": {},
   "outputs": [
    {
     "data": {
      "image/png": "[encoded data removed]",
      "text/plain": [
       "<Figure size 432x288 with 1 Axes>"
      ]
     },
     "metadata": {
      "needs_background": "light"
     },
     "output_type": "display_data"
    }
   ],
   "source": [
    "namesake = open('The_Namesake_BY_Jhumpa_Lahiri.md').read()\n",
    "namesakeWords = nltk.word_tokenize(namesake)\n",
    "namesakeText = nltk.Text(namesakeWords, name=\"The Moonstone so far\")\n",
    "namesakeText.dispersion_plot([\"Gogol\", \"Nikhil\"])"
   ]
  },
  {
   "cell_type": "markdown",
   "metadata": {},
   "source": [
    "The plot shows that the name \"Gogol\" appears almost throughout the whole book, while the name \"Nikhil\" appears frequently at around 25000 word offset, 45000 word offset and 110000 word offset. To locate the exact locations of their occurances, I split the book by chapters and calculate their lengths:"
   ]
  },
  {
   "cell_type": "code",
   "execution_count": 4,
   "metadata": {},
   "outputs": [
    {
     "data": {
      "text/plain": [
       "[43310,\n",
       " 50983,\n",
       " 47462,\n",
       " 51332,\n",
       " 55830,\n",
       " 68284,\n",
       " 57760,\n",
       " 59738,\n",
       " 52318,\n",
       " 44021,\n",
       " 10597,\n",
       " 35556]"
      ]
     },
     "execution_count": 4,
     "metadata": {},
     "output_type": "execute_result"
    }
   ],
   "source": [
    "namesakeChaps = namesake.split('##')[1:]\n",
    "[len(chap) for chap in namesakeChaps]"
   ]
  },
  {
   "cell_type": "markdown",
   "metadata": {},
   "source": [
    "I will analyze the three dense occurances of Nikhil:\n",
    "\n",
    "1. The First Dense Occurances in Chapter 3\n",
    "\n",
    "By calculation and reflecting back to the book, I notice that the first dense usages of Nikhil occurs around Chapter 3. In this chapter, Gogol is about to begin kindergarten, and his parents (Ashoke and Ashima) finally choose a formal name for him, Nikhil. This name, just like the name Gogol, is chosen in honor of Nikolai Gogol, the author of the short story Ashoke was reading during the accident. Gogol, however, is used to the name Gogol that is always called by his family and does not wish to be called Nikhil, that \"he is afraid to be Nikhil, someone he doesn't know.\" (Lahiri, 31) I think the choice of Gogol over Nikhil not only reveals the natural scare of a little kid, but also is a metaphor that Gogol is too young to handle the reality that he needs to face dual cultures (Indian and American) just as he needs to handle two names. \n",
    "\n",
    "2. The Second Dense Occurances in Chapter 5\n",
    "\n",
    "I notice that the second dense usages of Nikhil occurs around Chapter 5 In that chapter. Gogol is about eighteen and about to attend college at Yale. Before doing so, he goes to the courthouse alone and has his name legally changed to Nikhil, that \"But instead he takes a deep breath and tells the people in the courtroom what he has never dared admit to his parents. 'I hate the name Gogol,' he says. 'I've always hated it.'\"(Lahiri, 52) I think this represents the eagerness of independence for Gogol as a young adult. Because Gogol is a name called by his family and is given because of his father Ashoke's experience in the train crash, and both means constraint for an adolescent. The change of name also signals the first decision of Gogol for his identity in the book. \n",
    "\n",
    "Despite his name change, everyone he knows continues to call him Gogol, and it is not until he begins his new semester at Yale that he truly comes into his own as Nikhil. Thus from the plot we see that Gogol is still frequently used after the change. \n",
    "\n",
    "3. The Third Dense Occurances in Chapter 10\n",
    "\n",
    "The last dense occurances of Nikhil is in the end of Chapter 10, the chapter of Gogol and Moushumi's marriage crisis. That part was about an argument between Gogol and Moushumi, because \"construction work has been taking place for the past few nights on their street, giant bins of rubble and concrete are moved and crushed, and Moushumi feels angry at Nikhil for being able to sleep through it.\" (Lahiri, 130) I think it is a coincidence to the last coming great change of Gogol's mind in the book. I think the marriage between Gogol and Moushumi who is also an Indian American represents the compliance of Gogol to the family value of Indian culture. But now the marriage is going to break, which also make Gogol realizes that he doesn't have to choose one culture over another, but just be himself, as a mixture with dual names and dual cultures. "
   ]
  },
  {
   "cell_type": "markdown",
   "metadata": {},
   "source": [
    "Looking at the continously freqeuent use of Gogol throughout the book, I notice the frequency is much more denser prior to the second dense occurances of Nikhil in Chapter 5 comparing to the rest of the book. Also, Chapter 5, the chapter that is about Gogol beginning his college life and adult life, is a dividing line in the whole story. Before Chapter 5, Gogol always live with his family members who always call him Gogol. But after Chapter 5, Gogol starts to begin his life outside his home, chooses to use Nikhil as his name instead and meets a lot of new people who only knows him as Nikhil. So, the trend of occurances of Gogol being lesser in the book also reflect the growth of Gogol. \n",
    "\n",
    "To better show difference between the meaning of Gogol and Nikhil in the book, I extract all sentences in the book with \"Gogol\" and \"Nikhil,\" and conduct word frequency analysis to explore words which occur with them. My analysis process details and results are shown below:"
   ]
  },
  {
   "cell_type": "code",
   "execution_count": 5,
   "metadata": {},
   "outputs": [],
   "source": [
    "namesakeSents = nltk.sent_tokenize(namesake)\n",
    "words = [sentence.split() for sentence in namesakeSents]\n",
    "gogol = []\n",
    "nikhil = []\n",
    "for i in words:\n",
    "    if \"Gogol\" in i:\n",
    "        gogol += i\n",
    "    if \"Nikhil\" in i:\n",
    "        nikhil += i  "
   ]
  },
  {
   "cell_type": "code",
   "execution_count": 6,
   "metadata": {},
   "outputs": [],
   "source": [
    "stemmer = LancasterStemmer()"
   ]
  },
  {
   "cell_type": "code",
   "execution_count": 7,
   "metadata": {},
   "outputs": [],
   "source": [
    "def listToString(s):  \n",
    "    \n",
    "    # initialize an empty string \n",
    "    str1 = \" \" \n",
    "    \n",
    "    # return string   \n",
    "    return (str1.join(s)) "
   ]
  },
  {
   "cell_type": "code",
   "execution_count": 8,
   "metadata": {},
   "outputs": [],
   "source": [
    "def counted(tokens): \n",
    "    tokens = listToString(tokens)\n",
    "    tokens = tokens.lower()\n",
    "    tokenizer = RegexpTokenizer(r'\\w+')\n",
    "    tokens = tokenizer.tokenize(tokens)\n",
    "    stems = [stemmer.stem(token) for token in tokens]\n",
    "    counted = Counter(stems)\n",
    "    return counted"
   ]
  },
  {
   "cell_type": "code",
   "execution_count": 9,
   "metadata": {},
   "outputs": [],
   "source": [
    "allCounts = {\"Gogol\": counted(gogol), \"Nikhil\": counted(nikhil)}"
   ]
  },
  {
   "cell_type": "code",
   "execution_count": 10,
   "metadata": {},
   "outputs": [
    {
     "data": {
      "text/html": [
       "<table style=\"display:inline\" border=\"1\" class=\"dataframe\">\n",
       "  <thead>\n",
       "    <tr style=\"text-align: right;\">\n",
       "      <th></th>\n",
       "      <th>Gogol</th>\n",
       "      <th>Nikhil</th>\n",
       "    </tr>\n",
       "  </thead>\n",
       "  <tbody>\n",
       "    <tr>\n",
       "      <th>ask</th>\n",
       "      <td>19.0</td>\n",
       "      <td>6.0</td>\n",
       "    </tr>\n",
       "    <tr>\n",
       "      <th>with</th>\n",
       "      <td>73.0</td>\n",
       "      <td>6.0</td>\n",
       "    </tr>\n",
       "    <tr>\n",
       "      <th>when</th>\n",
       "      <td>38.0</td>\n",
       "      <td>6.0</td>\n",
       "    </tr>\n",
       "    <tr>\n",
       "      <th>stil</th>\n",
       "      <td>9.0</td>\n",
       "      <td>5.0</td>\n",
       "    </tr>\n",
       "    <tr>\n",
       "      <th>moushum</th>\n",
       "      <td>29.0</td>\n",
       "      <td>5.0</td>\n",
       "    </tr>\n",
       "    <tr>\n",
       "      <th>has</th>\n",
       "      <td>49.0</td>\n",
       "      <td>5.0</td>\n",
       "    </tr>\n",
       "    <tr>\n",
       "      <th>hom</th>\n",
       "      <td>12.0</td>\n",
       "      <td>5.0</td>\n",
       "    </tr>\n",
       "    <tr>\n",
       "      <th>their</th>\n",
       "      <td>49.0</td>\n",
       "      <td>5.0</td>\n",
       "    </tr>\n",
       "    <tr>\n",
       "      <th>feel</th>\n",
       "      <td>16.0</td>\n",
       "      <td>5.0</td>\n",
       "    </tr>\n",
       "    <tr>\n",
       "      <th>gogol</th>\n",
       "      <td>466.0</td>\n",
       "      <td>5.0</td>\n",
       "    </tr>\n",
       "    <tr>\n",
       "      <th>if</th>\n",
       "      <td>18.0</td>\n",
       "      <td>5.0</td>\n",
       "    </tr>\n",
       "    <tr>\n",
       "      <th>been</th>\n",
       "      <td>26.0</td>\n",
       "      <td>4.0</td>\n",
       "    </tr>\n",
       "    <tr>\n",
       "      <th>rememb</th>\n",
       "      <td>7.0</td>\n",
       "      <td>4.0</td>\n",
       "    </tr>\n",
       "    <tr>\n",
       "      <th>no</th>\n",
       "      <td>24.0</td>\n",
       "      <td>4.0</td>\n",
       "    </tr>\n",
       "    <tr>\n",
       "      <th>t</th>\n",
       "      <td>34.0</td>\n",
       "      <td>4.0</td>\n",
       "    </tr>\n",
       "    <tr>\n",
       "      <th>al</th>\n",
       "      <td>23.0</td>\n",
       "      <td>4.0</td>\n",
       "    </tr>\n",
       "    <tr>\n",
       "      <th>up</th>\n",
       "      <td>41.0</td>\n",
       "      <td>4.0</td>\n",
       "    </tr>\n",
       "    <tr>\n",
       "      <th>now</th>\n",
       "      <td>27.0</td>\n",
       "      <td>4.0</td>\n",
       "    </tr>\n",
       "    <tr>\n",
       "      <th>doesn</th>\n",
       "      <td>14.0</td>\n",
       "      <td>4.0</td>\n",
       "    </tr>\n",
       "    <tr>\n",
       "      <th>but</th>\n",
       "      <td>50.0</td>\n",
       "      <td>4.0</td>\n",
       "    </tr>\n",
       "    <tr>\n",
       "      <th>him</th>\n",
       "      <td>46.0</td>\n",
       "      <td>4.0</td>\n",
       "    </tr>\n",
       "    <tr>\n",
       "      <th>tim</th>\n",
       "      <td>36.0</td>\n",
       "      <td>4.0</td>\n",
       "    </tr>\n",
       "    <tr>\n",
       "      <th>aft</th>\n",
       "      <td>14.0</td>\n",
       "      <td>4.0</td>\n",
       "    </tr>\n",
       "    <tr>\n",
       "      <th>work</th>\n",
       "      <td>5.0</td>\n",
       "      <td>4.0</td>\n",
       "    </tr>\n",
       "    <tr>\n",
       "      <th>par</th>\n",
       "      <td>35.0</td>\n",
       "      <td>4.0</td>\n",
       "    </tr>\n",
       "    <tr>\n",
       "      <th>they</th>\n",
       "      <td>67.0</td>\n",
       "      <td>3.0</td>\n",
       "    </tr>\n",
       "    <tr>\n",
       "      <th>mov</th>\n",
       "      <td>4.0</td>\n",
       "      <td>3.0</td>\n",
       "    </tr>\n",
       "    <tr>\n",
       "      <th>be</th>\n",
       "      <td>20.0</td>\n",
       "      <td>3.0</td>\n",
       "    </tr>\n",
       "    <tr>\n",
       "      <th>look</th>\n",
       "      <td>24.0</td>\n",
       "      <td>3.0</td>\n",
       "    </tr>\n",
       "    <tr>\n",
       "      <th>an</th>\n",
       "      <td>32.0</td>\n",
       "      <td>3.0</td>\n",
       "    </tr>\n",
       "  </tbody>\n",
       "</table style=\"display:inline\"><table style=\"display:inline\" border=\"1\" class=\"dataframe\">\n",
       "  <thead>\n",
       "    <tr style=\"text-align: right;\">\n",
       "      <th></th>\n",
       "      <th>Gogol</th>\n",
       "      <th>Nikhil</th>\n",
       "    </tr>\n",
       "  </thead>\n",
       "  <tbody>\n",
       "    <tr>\n",
       "      <th>they</th>\n",
       "      <td>67.0</td>\n",
       "      <td>3.0</td>\n",
       "    </tr>\n",
       "    <tr>\n",
       "      <th>fath</th>\n",
       "      <td>61.0</td>\n",
       "      <td>1.0</td>\n",
       "    </tr>\n",
       "    <tr>\n",
       "      <th>from</th>\n",
       "      <td>58.0</td>\n",
       "      <td>2.0</td>\n",
       "    </tr>\n",
       "    <tr>\n",
       "      <th>had</th>\n",
       "      <td>57.0</td>\n",
       "      <td>3.0</td>\n",
       "    </tr>\n",
       "    <tr>\n",
       "      <th>son</th>\n",
       "      <td>54.0</td>\n",
       "      <td>0.0</td>\n",
       "    </tr>\n",
       "    <tr>\n",
       "      <th>say</th>\n",
       "      <td>52.0</td>\n",
       "      <td>3.0</td>\n",
       "    </tr>\n",
       "    <tr>\n",
       "      <th>but</th>\n",
       "      <td>50.0</td>\n",
       "      <td>4.0</td>\n",
       "    </tr>\n",
       "    <tr>\n",
       "      <th>their</th>\n",
       "      <td>49.0</td>\n",
       "      <td>5.0</td>\n",
       "    </tr>\n",
       "    <tr>\n",
       "      <th>has</th>\n",
       "      <td>49.0</td>\n",
       "      <td>5.0</td>\n",
       "    </tr>\n",
       "    <tr>\n",
       "      <th>him</th>\n",
       "      <td>46.0</td>\n",
       "      <td>4.0</td>\n",
       "    </tr>\n",
       "    <tr>\n",
       "      <th>ar</th>\n",
       "      <td>46.0</td>\n",
       "      <td>1.0</td>\n",
       "    </tr>\n",
       "    <tr>\n",
       "      <th>up</th>\n",
       "      <td>41.0</td>\n",
       "      <td>4.0</td>\n",
       "    </tr>\n",
       "    <tr>\n",
       "      <th>by</th>\n",
       "      <td>40.0</td>\n",
       "      <td>2.0</td>\n",
       "    </tr>\n",
       "    <tr>\n",
       "      <th>when</th>\n",
       "      <td>38.0</td>\n",
       "      <td>6.0</td>\n",
       "    </tr>\n",
       "    <tr>\n",
       "      <th>tim</th>\n",
       "      <td>36.0</td>\n",
       "      <td>4.0</td>\n",
       "    </tr>\n",
       "    <tr>\n",
       "      <th>par</th>\n",
       "      <td>35.0</td>\n",
       "      <td>4.0</td>\n",
       "    </tr>\n",
       "    <tr>\n",
       "      <th>t</th>\n",
       "      <td>34.0</td>\n",
       "      <td>4.0</td>\n",
       "    </tr>\n",
       "    <tr>\n",
       "      <th>them</th>\n",
       "      <td>33.0</td>\n",
       "      <td>2.0</td>\n",
       "    </tr>\n",
       "    <tr>\n",
       "      <th>nam</th>\n",
       "      <td>32.0</td>\n",
       "      <td>1.0</td>\n",
       "    </tr>\n",
       "    <tr>\n",
       "      <th>an</th>\n",
       "      <td>32.0</td>\n",
       "      <td>3.0</td>\n",
       "    </tr>\n",
       "    <tr>\n",
       "      <th>sit</th>\n",
       "      <td>30.0</td>\n",
       "      <td>2.0</td>\n",
       "    </tr>\n",
       "    <tr>\n",
       "      <th>wil</th>\n",
       "      <td>30.0</td>\n",
       "      <td>3.0</td>\n",
       "    </tr>\n",
       "    <tr>\n",
       "      <th>hav</th>\n",
       "      <td>29.0</td>\n",
       "      <td>9.0</td>\n",
       "    </tr>\n",
       "    <tr>\n",
       "      <th>year</th>\n",
       "      <td>29.0</td>\n",
       "      <td>3.0</td>\n",
       "    </tr>\n",
       "    <tr>\n",
       "      <th>moushum</th>\n",
       "      <td>29.0</td>\n",
       "      <td>5.0</td>\n",
       "    </tr>\n",
       "    <tr>\n",
       "      <th>not</th>\n",
       "      <td>29.0</td>\n",
       "      <td>1.0</td>\n",
       "    </tr>\n",
       "    <tr>\n",
       "      <th>or</th>\n",
       "      <td>29.0</td>\n",
       "      <td>1.0</td>\n",
       "    </tr>\n",
       "    <tr>\n",
       "      <th>moth</th>\n",
       "      <td>28.0</td>\n",
       "      <td>0.0</td>\n",
       "    </tr>\n",
       "    <tr>\n",
       "      <th>nev</th>\n",
       "      <td>28.0</td>\n",
       "      <td>0.0</td>\n",
       "    </tr>\n",
       "    <tr>\n",
       "      <th>day</th>\n",
       "      <td>28.0</td>\n",
       "      <td>0.0</td>\n",
       "    </tr>\n",
       "  </tbody>\n",
       "</table style=\"display:inline\">"
      ]
     },
     "metadata": {},
     "output_type": "display_data"
    }
   ],
   "source": [
    "#Sort the most frequent words occur with Gogol and Nikhil\n",
    "#Only display from the 20th most frquent ones to the 50th most frequent ones \n",
    "#since the ones higher than them are meaningless words such as \"a\"\n",
    "narratorsDF = pd.DataFrame(allCounts).fillna(0)\n",
    "narratorsDF_n = narratorsDF.sort_values(by='Nikhil', ascending=False)\n",
    "narratorsDF_g = narratorsDF.sort_values(by='Gogol', ascending=False)\n",
    "\n",
    "def display_side_by_side(*args):\n",
    "    html_str=''\n",
    "    for df in args:\n",
    "        html_str+=df.to_html()\n",
    "    display_html(html_str.replace('table','table style=\"display:inline\"'),raw=True)\n",
    "display_side_by_side(narratorsDF_n.iloc[20:50], narratorsDF_g.iloc[20:50])\n",
    "#the dataframe on the left is sorted by Nikhil\n",
    "#the dataframe on the right is sorted by Gogol"
   ]
  },
  {
   "cell_type": "markdown",
   "metadata": {},
   "source": [
    "Among all of the words, I notice that the word \"Moushumi\" which is the name of Gogol's wife appears pretty frequently with the name \"Nikhil.\" For the name \"Gogol\", \"son\" appears pretty frequently. This finding resonates to my argument above that \"Gogol\" carries more about familial meaning while \"Nikhil\" is more about Gogol's social network and responsibilities that is built up after he leaves home. \n",
    "\n",
    "I also create concordances for the two names below: "
   ]
  },
  {
   "cell_type": "code",
   "execution_count": 11,
   "metadata": {},
   "outputs": [
    {
     "name": "stdout",
     "output_type": "stream",
     "text": [
      "Displaying 25 of 617 matches:\n",
      "llection of short stories by Nikolai Gogol , which his grandfather had given hi\n",
      " . Instead of thanking God he thanks Gogol , the Russian writer who had saved h\n",
      "or , but with gratitude . `` Hello , Gogol , '' he whispers , leaning over his \n",
      "face , his tightly bundled body . `` Gogol , '' he repeats , satisfied . The ba\n",
      "ive , aloof . She has never read any Gogol herself , but she is willing to plac\n",
      " , Ashoke spells out the name . Thus Gogol Ganguli is registered in the hospita\n",
      "he hospital 's files . `` Good-bye , Gogol , '' Patty says , planting a quiet k\n",
      " broiling hot , late summer 's day : Gogol , an indistinct blanketed mass , rep\n",
      ", smiling with his head lowered . `` Gogol enters the world , '' his father wil\n",
      "ite on the back in Bengali letters . Gogol 's first home is a fully furnished a\n",
      "leep again , '' he adds , looking at Gogol , whose cheeks are working methodica\n",
      "` I 'm saying I do n't want to raise Gogol alone in this country . It 's not ri\n",
      "into mugs . They raise their mugs to Gogol , Ashima and Ashoke only pretending \n",
      "at either side , both delighted when Gogol wraps a hand around each of their fi\n",
      "usual , and Ashima , on her own with Gogol for the first time in the silent hou\n",
      "s her hair . She changes and dresses Gogol and puts him into the navy blue , wh\n",
      " her last ounce of strength . Before Gogol 's birth , her days had followed no \n",
      "g—those same hours are consumed with Gogol , pacing the three rooms of the apar\n",
      "rms . Now she wakes at six , pulling Gogol out of the crib for his first feedin\n",
      "ced . Between eleven and one , while Gogol sleeps , she gets dinner out of the \n",
      " knit for the coming winter , making Gogol sweaters , blankets , mittens , and \n",
      " and caps . Every few days she gives Gogol a bath in the porcelain sink in the \n",
      "take pictures of the baby , and when Gogol is napping she pastes the square , w\n",
      " Ashima tapes these on the wall over Gogol 's crib . `` We are dying to see him\n",
      " home the following December , after Gogol turns one . ( She does not mention t\n"
     ]
    }
   ],
   "source": [
    "namesakeText.concordance('Gogol', lines=25)"
   ]
  },
  {
   "cell_type": "code",
   "execution_count": 12,
   "metadata": {},
   "outputs": [
    {
     "name": "stdout",
     "output_type": "stream",
     "text": [
      "Displaying 96 of 96 matches:\n",
      "n his formal education . The name , Nikhil , is artfully connected to the old \n",
      "ing if his parents were to call him Nikhil , too . But they tell him that the \n",
      "dren at school . He is afraid to be Nikhil , someone he does n't know . Who do\n",
      ". `` Welcome to elementary school , Nikhil . I am your principal , Mrs . Lapid\n",
      "` Can you tell me how old you are , Nikhil ? '' When the question is repeated \n",
      "apidus asks , `` Mr. Ganguli , does Nikhil follow English ? '' `` Of course he\n",
      "—is '' —he nods his head firmly— '' Nikhil . '' Mrs. Lapidus frowns . `` I 'm \n",
      " '' `` That you want us to call him Nikhil . '' `` That is correct . '' Mrs. L\n",
      "ou , Mr. Ganguli . Do you mean that Nikhil is a middle name ? Or a nickname ? \n",
      "'s good name , his school name , is Nikhil . '' Mrs. Lapidus presses her lips \n",
      " thanks Mrs. Lapidus . `` Be good , Nikhil , '' he says in English . And then \n",
      "een known , at school at least , as Nikhil . That one day , that first day of \n",
      "one that should have been . `` I 'm Nikhil , '' he says for the first time in \n",
      "re . But Kim accepts it gladly . `` Nikhil , '' she says , blowing a thin plum\n",
      "in she turns to him and smiles . `` Nikhil , '' she repeats . `` I've never he\n",
      " '' added to the list of names , `` Nikhil '' printed in tiny letters upside d\n",
      "r a prisoner to walk free . `` I 'm Nikhil , '' he wants to tell the people wh\n",
      "sed letters at the bottom . `` I 'm Nikhil , '' he is tempted to tell the attr\n",
      "h his new driver 's license says `` Nikhil , '' even though he's sliced up the\n",
      "t he begins to introduce himself as Nikhil . The first people to call him by h\n",
      "the common room to their suite . `` Nikhil is my first name . It got left out \n",
      "nts . Brandon nods , too . `` Hey , Nikhil , '' Brandon says awhile later , af\n",
      " for a whole university to call him Nikhil : students and professors and TAs a\n",
      "sors and TAs and girls at parties . Nikhil registers for his first four classe\n",
      "ty and respect . But now that he 's Nikhil it 's easier to ignore his parents \n",
      "e messages his suitemates leave for Nikhil on assorted scraps in their rooms .\n",
      "ame into course books . `` Me llamo Nikhil , '' he says in his Spanish class .\n",
      "ays in his Spanish class . It is as Nikhil , that first semester , that he gro\n",
      "tello and Charlie Parker . It is as Nikhil that he takes Metro-North into Manh\n",
      "liquor in New Haven bars . It is as Nikhil that he loses his virginity at a pa\n",
      "omplication : he does n't feel like Nikhil . Not yet . Part of the problem is \n",
      "that the people who now know him as Nikhil have no idea that he used to be Gog\n",
      "teen years of Gogol , two months of Nikhil feel scant , inconsequential . At t\n",
      "store . Occasionally he has to hear Nikhil three times before he answers . Eve\n",
      "ally call him Gogol refer to him as Nikhil . For example , when his parents ca\n",
      " to pick up the phone , they ask if Nikhil is there . Though he has asked his \n",
      "d . `` Please come to our home with Nikhil one weekend , '' Ashima says to his\n",
      " , in front of his new friends , as Nikhil directly : `` Nikhil , show us the \n",
      "w friends , as Nikhil directly : `` Nikhil , show us the buildings where you h\n",
      "g the two-and-a-half-hour journey , Nikhil evaporates and Gogol claims him aga\n",
      "im in that same vague way . `` I 'm Nikhil . '' He sits , too exhausted to put\n",
      " is lying down . `` You 're great , Nikhil , '' she whispers as he touches sma\n",
      "nd adolescence , to attend . `` I'm Nikhil now , '' Gogol says , suddenly depr\n",
      "sed to . After three years of being Nikhil the vast majority of the time , he \n",
      "y defined . `` Lovely to meet you , Nikhil , '' she says , smiling brightly , \n",
      "arely knows . `` You 'll sit here , Nikhil , '' Gerald says , pointing to a ch\n",
      "glow of the ceiling light . `` Oh , Nikhil , it 's too awful , '' she eventual\n",
      "g the air with a haze of smoke . `` Nikhil 's father is upstairs , '' his moth\n",
      "gne is poured with the cake . `` To Nikhil , '' Gerald announces , raising his\n",
      "ol and Sonia . She refuses to write Nikhil , even though she knows that 's wha\n",
      "t back in her lap . `` I miss you , Nikhil . '' He nods . `` What about New Ye\n",
      "t is a blue packet of Dunhills . `` Nikhil , '' she says as he sits down on th\n",
      " that she had n't recognized him as Nikhil . This is the first time he 's been\n",
      " his decision to change his name to Nikhil . She 'd been thirteen or so , doin\n",
      " cheek . A cake is wheeled out , `` Nikhil Weds Moushumi '' piped across its s\n",
      "ve been written out to Mr. and Mrs. Nikhil and Moushumi Ganguli . Several are \n",
      "mera , focusing it on her face . `` Nikhil , please , do n't , '' she says , l\n",
      " one day , she 'd laughed . `` Oh , Nikhil , '' she 'd said , `` you can't be \n",
      "gol says . `` Need any help ? '' `` Nikhil . Welcome . '' Donald hands over th\n",
      " `` It 's my grandmother 's . '' `` Nikhil changed his , '' Moushumi blurts ou\n",
      "is name ? '' Blake asks slowly . `` Nikhil . It was n't the name he was born w\n",
      "xams as an excuse , she has ignored Nikhil perhaps more than necessary . There\n",
      " over it , a lilac pashmina shawl , Nikhil 's anniversary present to her . She\n",
      "an man . But she 'd genuinely liked Nikhil . She 'd liked that he was neither \n",
      "e 'd changed his name from Gogol to Nikhil ; though she 'd known him all those\n",
      "hat . Would you like my jacket ? '' Nikhil offers . `` No , it 's okay . '' Sh\n",
      "ery long time , it seems , watching Nikhil work his way through his quail . ``\n",
      " looks at the hair-thin quail bones Nikhil has discarded on his plate and is f\n",
      "t hair . `` What 's the matter ? '' Nikhil asks , looking up from his plate . \n",
      "y put down a credit card . Watching Nikhil sign the receipt , she feels cheap \n",
      " . When she 'd left the apartment , Nikhil had still been asleep , undisturbed\n",
      "ong in her studies as she is , that Nikhil has a respectable if not terribly l\n",
      " nowhere . Sometimes she jokes with Nikhil about their having to pick up and m\n",
      "e other TAs , empty now . She calls Nikhil at home , at work . No answer . She\n",
      "eachable—she 's reminded of the way Nikhil 's father had died , instantly , wi\n",
      " shelves in the living room she and Nikhil share . Their books have merged sin\n",
      "ged since they 've gotten married , Nikhil had unpacked them all , and nothing\n",
      "o be . Her eyes pass over stacks of Nikhil 's design magazines , thick books o\n",
      "books on Gropius and Le Corbusier . Nikhil , bent over a blueprint at the dini\n",
      " remember unpacking it when she and Nikhil moved in together . She wishes she \n",
      "together . She wishes she could ask Nikhil if he 's seen it—a small green clot\n",
      "at home , she reads it in bed until Nikhil comes in to join her—then she puts \n",
      " friends . Still , she doesn't tell Nikhil about the résumé . One night in her\n",
      " file cabinet , she calls . A night Nikhil thinks she 's working on revisions \n",
      "er up but the phone is listed under Nikhil 's last name . It did n't matter , \n",
      "a sauce she would have at home with Nikhil . On Mondays and Wednesdays no one \n",
      "mitri is not terribly curious about Nikhil , does not ask her his name . He ex\n",
      "how easy it is . Moushumi refers to Nikhil in conversation as `` my husband ''\n",
      "s given me this cold . '' At home , Nikhil suspects nothing . As usual they ha\n",
      "ushed , and Moushumi feels angry at Nikhil for being able to sleep through it \n",
      "ns , then returns to bed and shakes Nikhil awake . `` Look , '' she says , poi\n",
      "ere something truly extraordinary . Nikhil obliges , fully asleep , sits uprig\n",
      " about . `` Why are you crying ? '' Nikhil asks , squinting at her in his paja\n",
      "acks in the ceiling , '' she says . Nikhil looks up . `` They 're not too bad \n",
      "as incredible . I woke you . '' But Nikhil does n't remember a thing . A month\n",
      "orating his name . And in that case Nikhil will live on , publicly celebrated \n"
     ]
    }
   ],
   "source": [
    "namesakeText.concordance('Nikhil', lines=96)"
   ]
  },
  {
   "cell_type": "markdown",
   "metadata": {},
   "source": [
    "From the two concordances above, the difference of contexts is pretty clear. For \"Gogol\", the sentences are usually about interactions in a private family setting like a talk between Ashima and Gogol. However, for \"Nikhil\", we could see that there are more characters with more various relationship with Gogol, such as Moushumi who was in love with Gogol, and people who Gogol met in \"Metro-North in New Heaven bars\" (Lahiri, 121)."
   ]
  },
  {
   "cell_type": "markdown",
   "metadata": {},
   "source": [
    "### 2. Changes of Gogol's Relationships to Other Characters over time"
   ]
  },
  {
   "cell_type": "markdown",
   "metadata": {},
   "source": [
    "In the last section, I mention the difference between people who use \"Gogol\" and thos use \"Nikhil,\" and indicate the familial/personal meaning of \"Gogol\" and the businesslike/formal meaning of \"Nikhil.\" I also realize that the growth journey of Gogol is his long process of defining himself between his dual names, and dual cultures. His struggles and bewilderment are reflected on his changing naming, and his changing social/familial relationships.\n",
    "\n",
    "In this section, I will visualize the changes of Gogol's relationships to other characters over time, and reflect them to his inner growth. I firstly divide the whole book into four parts by his four stages of growth: \n",
    "\n",
    "1. Realizing the question \"who am I?\" (Chapter 1 to Chapter 4)\n",
    "2. Choosing to embrace the \"American\" self (Chapter 5 to Chapter 7)\n",
    "3. Turning to the \"Indian\" self (Chapter 8 to Chapter 10)\n",
    "4. Embrace himself with dual names and dual cultures (Chapter 11)\n",
    "\n",
    "After dividing the book, I analyze and plot social network graphs of each of the stage, in order to compare and feel the changes. Below is my detailed analysis:"
   ]
  },
  {
   "cell_type": "code",
   "execution_count": 13,
   "metadata": {},
   "outputs": [],
   "source": [
    "nlp = spacy.load('en_core_web_lg')\n",
    "nlp.max_length = 1100000\n",
    "namesakeDoc = nlp(namesake)"
   ]
  },
  {
   "cell_type": "code",
   "execution_count": 14,
   "metadata": {},
   "outputs": [],
   "source": [
    "#Stage 1: Realizing the question \"who am I?\"\n",
    "characters1 = {\"Gogol\": [\"Gogol Ganguli\", \"Gogol\", \"Nikhil\"],\n",
    "     \"Ashima\": [\"Ashima\", \"Ashima Ganguli\", \"Ma\"],\n",
    "     \"Ashoke\": [\"Ashoke\", \"Ashoke Ganguli\", \"Baba\", \"Professor Ganguli\"],\n",
    "     \"Sonia\": [\"Sonia\", \"Sonali\"],\n",
    "     \"Ghosh\": [\"Ghosh\"],\n",
    "     \"The Nandis\": [\"Nandis\"],\n",
    "     \"Dr. Gupta\": [\"Dr. Gupta\"],\n",
    "     \"Alan\": [\"Alan\"],\n",
    "     \"Judy\": [\"Judy\"]\n",
    "    }"
   ]
  },
  {
   "cell_type": "code",
   "execution_count": 15,
   "metadata": {},
   "outputs": [],
   "source": [
    "allCharacters1 = []\n",
    "for charList in characters1.values():\n",
    "    for charName in charList:\n",
    "        allCharacters1.append(charName)\n",
    "namesakePara1 = [chap.split('\\n\\n') for chap in namesakeChaps[:5]]\n",
    "flattened1 = [a for b in namesakePara1 for a in b]\n",
    "chars1 = list(characters1.keys())\n",
    "charPairs1 = {pair: 0 for pair in list(combinations(chars1, 2))}"
   ]
  },
  {
   "cell_type": "code",
   "execution_count": 16,
   "metadata": {},
   "outputs": [],
   "source": [
    "for para in flattened1:\n",
    "    for charPair in charPairs1:\n",
    "        if charPair[0] in para and charPair[1] in para: \n",
    "            charPairs1[charPair] += 1"
   ]
  },
  {
   "cell_type": "code",
   "execution_count": 19,
   "metadata": {},
   "outputs": [],
   "source": [
    "#Stage 2: Embrace \"American\" self\n",
    "characters2 = {\"Gogol\": [\"Gogol Ganguli\", \"Gogol\", \"Nikhil\"], \n",
    "     \"Ashima\": [\"Ashima\", \"Ashima Ganguli\", \"Ma\"],\n",
    "     \"Ashoke\": [\"Ashoke\", \"Ashoke Ganguli\", \"Baba\", \"Professor Ganguli\"],\n",
    "     \"Sonia\": [\"Sonia\", \"Sonali\"], \n",
    "     \"Maxine\": [\"Maxine\"],\n",
    "     \"Ruth\": [\"Ruth\"],\n",
    "     \"Graham\": [\"Graham\"]\n",
    "    }"
   ]
  },
  {
   "cell_type": "code",
   "execution_count": 20,
   "metadata": {},
   "outputs": [],
   "source": [
    "allCharacters2 = []\n",
    "for charList in characters2.values():\n",
    "    for charName in charList:\n",
    "        allCharacters2.append(charName)\n",
    "namesakePara2 = [chap.split('\\n\\n') for chap in namesakeChaps[5:8]]\n",
    "flattened2 = [a for b in namesakePara2 for a in b]\n",
    "chars2 = list(characters2.keys())\n",
    "charPairs2 = {pair: 0 for pair in list(combinations(chars2, 2))}"
   ]
  },
  {
   "cell_type": "code",
   "execution_count": 21,
   "metadata": {},
   "outputs": [],
   "source": [
    "for para in flattened2:\n",
    "    for charPair in charPairs2:\n",
    "        if charPair[0] in para and charPair[1] in para: \n",
    "            charPairs2[charPair] += 1"
   ]
  },
  {
   "cell_type": "code",
   "execution_count": 22,
   "metadata": {},
   "outputs": [],
   "source": [
    "#Stage 3: Turn to \"Indian\" self\n",
    "characters3 = {\"Gogol\": [\"Gogol Ganguli\", \"Gogol\", \"Nikhil\"], \n",
    "     \"Ashima\": [\"Ashima\", \"Ashima Ganguli\", \"Ma\"], \n",
    "     \"Sonia\": [\"Sonia\", \"Sonali\"], \n",
    "     \"Moushumi\": [\"Moushumi\", \"Moushumi Mazoomdar\"], \n",
    "     \"Dimitri\": [\"Dimitri\", \"Dimitri Desjardins\"], \n",
    "     \"Donald\": [\"Donald\"],\n",
    "     \"Astrid\": [\"Astrid\"],\n",
    "     \"Graham\": [\"Graham\"], \n",
    "    }"
   ]
  },
  {
   "cell_type": "code",
   "execution_count": 26,
   "metadata": {},
   "outputs": [],
   "source": [
    "allCharacters3 = []\n",
    "for charList in characters3.values():\n",
    "    for charName in charList:\n",
    "        allCharacters3.append(charName)\n",
    "namesakePara3 = [chap.split('\\n\\n') for chap in namesakeChaps[8:]]\n",
    "flattened3 = [a for b in namesakePara3 for a in b]\n",
    "chars3 = list(characters3.keys())\n",
    "charPairs3 = {pair: 0 for pair in list(combinations(chars3, 2))}"
   ]
  },
  {
   "cell_type": "code",
   "execution_count": 27,
   "metadata": {},
   "outputs": [],
   "source": [
    "for para in flattened3:\n",
    "    for charPair in charPairs3:\n",
    "        if charPair[0] in para and charPair[1] in para: \n",
    "            charPairs3[charPair] += 1"
   ]
  },
  {
   "cell_type": "code",
   "execution_count": 28,
   "metadata": {},
   "outputs": [],
   "source": [
    "#Stage 4: Embrace himself!\n",
    "characters4 = {\"Gogol\": [\"Gogol Ganguli\", \"Gogol\", \"Nikhil\"], \n",
    "     \"Ashima\": [\"Ashima\", \"Ashima Ganguli\", \"Ma\"], \n",
    "     \"Sonia\": [\"Sonia\", \"Sonali\"], \n",
    "     \"Moushumi\": [\"Moushumi\", \"Moushumi Mazoomdar\"], \n",
    "     \"Dimitri\": [\"Dimitri\", \"Dimitri Desjardins\"], \n",
    "     \"Donald\": [\"Donald\"],\n",
    "     \"Astrid\": [\"Astrid\"],\n",
    "     \"Graham\": [\"Graham\"], \n",
    "    }"
   ]
  },
  {
   "cell_type": "code",
   "execution_count": 29,
   "metadata": {},
   "outputs": [],
   "source": [
    "allCharacters4 = []\n",
    "for charList in characters4.values():\n",
    "    for charName in charList:\n",
    "        allCharacters4.append(charName)\n",
    "namesakePara4 = [chap.split('\\n\\n') for chap in namesakeChaps[11]]\n",
    "flattened4 = [a for b in namesakePara4 for a in b]\n",
    "chars4 = list(characters4.keys())\n",
    "charPairs4 = {pair: 0 for pair in list(combinations(chars4, 2))}"
   ]
  },
  {
   "cell_type": "code",
   "execution_count": 30,
   "metadata": {},
   "outputs": [],
   "source": [
    "for para in flattened4:\n",
    "    for charPair in charPairs4:\n",
    "        if charPair[0] in para and charPair[1] in para: \n",
    "            charPairs4[charPair] += 1"
   ]
  },
  {
   "cell_type": "code",
   "execution_count": 31,
   "metadata": {},
   "outputs": [],
   "source": [
    "graph1 = networkx.Graph()\n",
    "graph1.add_nodes_from(chars1)\n",
    "for pair, weight in charPairs1.items(): \n",
    "    if weight > 0: \n",
    "        graph1.add_edge(pair[0], pair[1], weight=weight)\n",
    "\n",
    "graph2 = networkx.Graph()\n",
    "graph2.add_nodes_from(chars2)\n",
    "for pair, weight in charPairs2.items(): \n",
    "    if weight > 0: \n",
    "        graph2.add_edge(pair[0], pair[1], weight=weight)\n",
    "\n",
    "graph3 = networkx.Graph()\n",
    "graph3.add_nodes_from(chars3)\n",
    "for pair, weight in charPairs3.items(): \n",
    "    if weight > 0: \n",
    "        graph3.add_edge(pair[0], pair[1], weight=weight)\n",
    "\n",
    "graph4 = networkx.Graph()\n",
    "graph4.add_nodes_from(chars4)\n",
    "for pair, weight in charPairs4.items(): \n",
    "    if weight > 0: \n",
    "        graph4.add_edge(pair[0], pair[1], weight=weight)"
   ]
  },
  {
   "cell_type": "code",
   "execution_count": 41,
   "metadata": {},
   "outputs": [
    {
     "data": {
      "image/png": "[encoded data removed]",
      "text/plain": [
       "<Figure size 432x288 with 4 Axes>"
      ]
     },
     "metadata": {
      "needs_background": "light"
     },
     "output_type": "display_data"
    }
   ],
   "source": [
    "#Stage 1: Realizing the question \"who am I?\"\n",
    "plt.subplot(2,2,1)\n",
    "networkx.draw_networkx(graph1, figsize=(10,10))\n",
    "\n",
    "#Stage 2: Embrace \"American\" self\n",
    "plt.subplot(2,2,2)\n",
    "networkx.draw_networkx(graph2, figsize=(10,10))\n",
    "\n",
    "#Stage 3: Turn to \"Indian\" self\n",
    "plt.subplot(2,2,3)\n",
    "networkx.draw_networkx(graph3, figsize=(10,10))\n",
    "\n",
    "#Stage 4: Embrace himself!\n",
    "plt.subplot(2,2,4)\n",
    "networkx.draw_networkx(graph4, figsize=(10,10))"
   ]
  },
  {
   "cell_type": "markdown",
   "metadata": {},
   "source": [
    "1. Realizing the question \"who am I?\" (Chapter 1 to Chapter 4)\n",
    "\n",
    "In the first four chapters of _The Namesake_, they focus on Gogol's childhood and teenage life. In the first subplot above, it is clear that the closest relationships of Gogol are his familial relationships. During that time, Gogol was always using Gogol as his only name. Though it was originally only his pet name, he insists to use it instead of Nikhil (his formal name given by Ashoke, his father) when he was only in the kindergarden. However, as he grows up, he became clearer about his dual cultures. His confusion with his cultural identities mixes with his want to be independent from his family during his adolescence.\n",
    "\n",
    "2. Choosing to embrace the \"American\" self (Chapter 5 to Chapter 7)\n",
    "\n",
    "In Chapter 5, Gogol resents his odd name so much that he legally changes his name to Nikhil when he turns eighteen, which represents his eagerness of independence without family's constraint. As he matures, he distances himself more and more from his family; he resents their Indian-ness and provincial lifestyle. Just as shown in the second subplot that the closest to Gogol at that time is Maxine. His girlfriend Maxine and her typical American family who welcome Gogol and make hime relieved, because Gogol feels \"that here at Maxine's side, in this cloistered wilderness, he is free (Lahiri, 78),\" although \"he is conscious of the fact that his immersion in Maxine's family is a betrayal of his own. (Lahiri 70)\"\n",
    "\n",
    "3. Turning to the \"Indian\" self (Chapter 8 to Chapter 10)\n",
    "\n",
    "Gogol's relationship with Maxine and his \"purely American\" life ends after his father's death. Gogol changes to be closer to his family, and makes peace with his heritage. He ultimately marries an Indian American woman, Moushumi. This is also shown in the thrid subplot, which shows that Moushumi is the closest to Gogol. \n",
    "\n",
    "4. Embrace himself with dual names and dual cultures (Chapter 11)\n",
    "\n",
    "Gogol and Moushumi break up in the end because Moushumi's affair. However, this big change matures Gogol and help him to finally achieve peace with himself. He says that \"the name (Gogol) he had so detested . . . was the first thing his father had ever given him,\" and \"Nikhil will live on, publicly celebrated, unlike Gogol, purposely hidden, legally diminished, now all but lost. (Lahiri, 142)\" In his mind, \"Gogol\" represents intimacy, family and his Indian root, while \"Nikhil\" means his friend circle and social network in the public, as well as his \"American\" identity. Both identities exist harmoniously, and as we can see from the graph, Gogol has almost equal closeness to all of the others."
   ]
  },
  {
   "cell_type": "markdown",
   "metadata": {},
   "source": [
    "### 3. Conclusions "
   ]
  },
  {
   "cell_type": "markdown",
   "metadata": {},
   "source": [
    "All in all, the whole growth journey of Gogol and his struggles on identity are clearly shown as he changes his name, and the changes on his relatioships to the other people in the book. Just as Sura Mohammad Khrais wrote, eventually \"Gogol allows the two cultural spaces to create a hybrid subject. (Khrais, 9)\". He brings the two different spaces of American culture and Indian heritage in one 'third space', as well as achieve a balance between familism and individualism."
   ]
  },
  {
   "cell_type": "markdown",
   "metadata": {},
   "source": [
    "### Works Cited"
   ]
  },
  {
   "cell_type": "markdown",
   "metadata": {},
   "source": [
    "1. Lahiri, Jhumpa. _The Namesake_, Mariner Books, 2004.\n",
    "2. Mohammad Khrais, Sura, 'But You’re Indian!' Cultural Hybridity and Assimilation in _The Namesake_ (June 1, 2020). AWEJ for Translation & Literary Studies, Volume 4, Number2. May 2020"
   ]
  },
  {
   "cell_type": "code",
   "execution_count": null,
   "metadata": {},
   "outputs": [],
   "source": []
  }
 ],
 "metadata": {
  "kernelspec": {
   "display_name": "Python 3",
   "language": "python",
   "name": "python3"
  },
  "language_info": {
   "codemirror_mode": {
    "name": "ipython",
    "version": 3
   },
   "file_extension": ".py",
   "mimetype": "text/x-python",
   "name": "python",
   "nbconvert_exporter": "python",
   "pygments_lexer": "ipython3",
   "version": "3.7.1"
  }
 },
 "nbformat": 4,
 "nbformat_minor": 2
}
